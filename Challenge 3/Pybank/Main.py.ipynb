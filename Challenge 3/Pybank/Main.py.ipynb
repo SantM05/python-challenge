{
 "cells": [
  {
   "cell_type": "code",
   "execution_count": 62,
   "id": "559be67e-a0a1-4bef-b930-d1a3a1c43b50",
   "metadata": {},
   "outputs": [],
   "source": [
    "import pandas as pd\n",
    "from pathlib import Path"
   ]
  },
  {
   "cell_type": "code",
   "execution_count": 64,
   "id": "5d45a9c9-f49d-4b39-b3e2-a16575ebaecf",
   "metadata": {},
   "outputs": [],
   "source": [
    "file = Path(\"Resources/budget_data.csv\")"
   ]
  },
  {
   "cell_type": "code",
   "execution_count": 66,
   "id": "d28729d5-5ff7-4011-bfc2-894b29fb45ab",
   "metadata": {},
   "outputs": [
    {
     "data": {
      "text/html": [
       "<div>\n",
       "<style scoped>\n",
       "    .dataframe tbody tr th:only-of-type {\n",
       "        vertical-align: middle;\n",
       "    }\n",
       "\n",
       "    .dataframe tbody tr th {\n",
       "        vertical-align: top;\n",
       "    }\n",
       "\n",
       "    .dataframe thead th {\n",
       "        text-align: right;\n",
       "    }\n",
       "</style>\n",
       "<table border=\"1\" class=\"dataframe\">\n",
       "  <thead>\n",
       "    <tr style=\"text-align: right;\">\n",
       "      <th></th>\n",
       "      <th>Date</th>\n",
       "      <th>Profit/Losses</th>\n",
       "    </tr>\n",
       "  </thead>\n",
       "  <tbody>\n",
       "    <tr>\n",
       "      <th>0</th>\n",
       "      <td>Jan-10</td>\n",
       "      <td>1088983</td>\n",
       "    </tr>\n",
       "    <tr>\n",
       "      <th>1</th>\n",
       "      <td>Feb-10</td>\n",
       "      <td>-354534</td>\n",
       "    </tr>\n",
       "    <tr>\n",
       "      <th>2</th>\n",
       "      <td>Mar-10</td>\n",
       "      <td>276622</td>\n",
       "    </tr>\n",
       "    <tr>\n",
       "      <th>3</th>\n",
       "      <td>Apr-10</td>\n",
       "      <td>-728133</td>\n",
       "    </tr>\n",
       "    <tr>\n",
       "      <th>4</th>\n",
       "      <td>May-10</td>\n",
       "      <td>852993</td>\n",
       "    </tr>\n",
       "  </tbody>\n",
       "</table>\n",
       "</div>"
      ],
      "text/plain": [
       "     Date  Profit/Losses\n",
       "0  Jan-10        1088983\n",
       "1  Feb-10        -354534\n",
       "2  Mar-10         276622\n",
       "3  Apr-10        -728133\n",
       "4  May-10         852993"
      ]
     },
     "execution_count": 66,
     "metadata": {},
     "output_type": "execute_result"
    }
   ],
   "source": [
    "original_file_df = pd.read_csv(file)\n",
    "original_file_df.head()"
   ]
  },
  {
   "cell_type": "code",
   "execution_count": 68,
   "id": "c91a211b-cebe-40b5-9882-f1592bb0793a",
   "metadata": {},
   "outputs": [],
   "source": [
    "original_file_df[\"Date\"] = pd.to_datetime(original_file_df[\"Date\"], format = \"%b-%y\")"
   ]
  },
  {
   "cell_type": "code",
   "execution_count": 103,
   "id": "3b106394-9020-4007-9ff9-4be2a55f9e72",
   "metadata": {},
   "outputs": [],
   "source": [
    "Total_months = original_file_df[\"Date\"].dt.to_period(\"M\").nunique()"
   ]
  },
  {
   "cell_type": "code",
   "execution_count": 72,
   "id": "edd2b6de-c3da-48bb-a7ce-164c6c5b15d7",
   "metadata": {},
   "outputs": [
    {
     "name": "stdout",
     "output_type": "stream",
     "text": [
      "Total Months: 86\n"
     ]
    }
   ],
   "source": [
    "print(f\"Total Months: {Total_months}\")"
   ]
  },
  {
   "cell_type": "code",
   "execution_count": 74,
   "id": "2d00d6b7-9287-4d1d-82cb-61a10cc98aac",
   "metadata": {},
   "outputs": [
    {
     "name": "stdout",
     "output_type": "stream",
     "text": [
      "Net value: 22564198\n"
     ]
    }
   ],
   "source": [
    "Net_value = original_file_df[\"Profit/Losses\"].sum()\n",
    "print(f\"Net value: {Net_value}\")"
   ]
  },
  {
   "cell_type": "code",
   "execution_count": 76,
   "id": "8cb819b8-e190-4a9f-8008-1b4385b8f6f9",
   "metadata": {},
   "outputs": [],
   "source": [
    "Total_ProfitLosses = len(original_file_df[\"Profit/Losses\"])"
   ]
  },
  {
   "cell_type": "code",
   "execution_count": 78,
   "id": "6d9894f7-2905-4887-9097-261499eb0694",
   "metadata": {},
   "outputs": [
    {
     "name": "stdout",
     "output_type": "stream",
     "text": [
      "Average: 262374.3953488372\n"
     ]
    }
   ],
   "source": [
    "Average = Net_value/Total_ProfitLosses\n",
    "print(f\"Average: {Average}\")"
   ]
  },
  {
   "cell_type": "code",
   "execution_count": 80,
   "id": "4bf9835c-c4c0-4e42-9aca-98422a70647e",
   "metadata": {},
   "outputs": [
    {
     "name": "stdout",
     "output_type": "stream",
     "text": [
      "Average change: -8311.105882352942\n"
     ]
    }
   ],
   "source": [
    "for value in original_file_df[\"Profit/Losses\"]:\n",
    "    original_file_df[\"Change\"] = original_file_df[\"Profit/Losses\"].diff()\n",
    "    Average_Change = original_file_df[\"Change\"].mean()\n",
    "print(f\"Average change: {Average_Change}\")"
   ]
  },
  {
   "cell_type": "code",
   "execution_count": 116,
   "id": "e3bf453a-5620-45cc-b782-a954d4dadc86",
   "metadata": {},
   "outputs": [
    {
     "name": "stdout",
     "output_type": "stream",
     "text": [
      "Greatest increase in profits : 1862002.0\n",
      "Greatest decrease in profits : -1825558.0\n"
     ]
    }
   ],
   "source": [
    "for value in original_file_df[\"Profit/Losses\"]:\n",
    "    Max_value = original_file_df[\"Change\"].max()\n",
    "    Min_value = original_file_df[\"Change\"].min()\n",
    "print(f\"Greatest increase in profits : {Max_value}\")\n",
    "print(f\"Greatest decrease in profits : {Min_value}\")"
   ]
  },
  {
   "cell_type": "code",
   "execution_count": 107,
   "id": "31728569-41e9-4654-bc4c-3fa8983d869c",
   "metadata": {},
   "outputs": [],
   "source": [
    "output_file = \"Financial_Analysis.txt\"\n",
    "with open(output_file, \"w\") as file:\n",
    "    file.write(f\"Total Months: {Total_months}\")\n",
    "    file.write(f\"Net value: {Net_value}\")\n",
    "    file.write(f\"Average change: {Average_Change}\")\n",
    "    file.write(f\"Greatest increase in profits : {Max_value}\")\n",
    "    file.write(f\"Greatest decrease in profits : {Min_value}\")"
   ]
  },
  {
   "cell_type": "code",
   "execution_count": 125,
   "id": "ed42b8ca-57f3-43ef-b6c5-2fc6109256fa",
   "metadata": {},
   "outputs": [
    {
     "name": "stdout",
     "output_type": "stream",
     "text": [
      " Financial Analysis\n",
      "-------------------\n",
      "Total Months: 86\n",
      "Total: 22564198\n",
      "Average change: -8311.105882352942\n",
      "Greatest increase in profits : 1862002.0\n",
      "Greatest decrease in profits : -1825558.0\n"
     ]
    }
   ],
   "source": [
    "print(\" Financial Analysis\")\n",
    "print(\"-------------------\")\n",
    "print(f\"Total Months: {Total_months}\")\n",
    "print(f\"Total: {Net_value}\")\n",
    "print(f\"Average change: {Average_Change}\")\n",
    "print(f\"Greatest increase in profits : {Max_value}\")\n",
    "print(f\"Greatest decrease in profits : {Min_value}\")"
   ]
  },
  {
   "cell_type": "code",
   "execution_count": null,
   "id": "dcbd09a8-cc15-4f67-81c5-0d44cb7fdcc1",
   "metadata": {},
   "outputs": [],
   "source": []
  }
 ],
 "metadata": {
  "kernelspec": {
   "display_name": "Python 3 (ipykernel)",
   "language": "python",
   "name": "python3"
  },
  "language_info": {
   "codemirror_mode": {
    "name": "ipython",
    "version": 3
   },
   "file_extension": ".py",
   "mimetype": "text/x-python",
   "name": "python",
   "nbconvert_exporter": "python",
   "pygments_lexer": "ipython3",
   "version": "3.11.7"
  }
 },
 "nbformat": 4,
 "nbformat_minor": 5
}
