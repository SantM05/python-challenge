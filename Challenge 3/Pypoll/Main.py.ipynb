{
 "cells": [
  {
   "cell_type": "code",
   "execution_count": 3,
   "id": "ac325a06-0bca-4a68-a433-acf43fba8ad3",
   "metadata": {},
   "outputs": [],
   "source": [
    "import pandas as pd\n",
    "from pathlib import Path"
   ]
  },
  {
   "cell_type": "code",
   "execution_count": 5,
   "id": "bc0fb273-49ed-4a42-bd05-f7574fc45aa0",
   "metadata": {},
   "outputs": [],
   "source": [
    "file = Path(\"Resources/election_data.csv\")"
   ]
  },
  {
   "cell_type": "code",
   "execution_count": 7,
   "id": "9eb627b5-86a9-4a54-b293-618505b8f062",
   "metadata": {},
   "outputs": [
    {
     "data": {
      "text/html": [
       "<div>\n",
       "<style scoped>\n",
       "    .dataframe tbody tr th:only-of-type {\n",
       "        vertical-align: middle;\n",
       "    }\n",
       "\n",
       "    .dataframe tbody tr th {\n",
       "        vertical-align: top;\n",
       "    }\n",
       "\n",
       "    .dataframe thead th {\n",
       "        text-align: right;\n",
       "    }\n",
       "</style>\n",
       "<table border=\"1\" class=\"dataframe\">\n",
       "  <thead>\n",
       "    <tr style=\"text-align: right;\">\n",
       "      <th></th>\n",
       "      <th>Ballot ID</th>\n",
       "      <th>County</th>\n",
       "      <th>Candidate</th>\n",
       "    </tr>\n",
       "  </thead>\n",
       "  <tbody>\n",
       "    <tr>\n",
       "      <th>0</th>\n",
       "      <td>1323913</td>\n",
       "      <td>Jefferson</td>\n",
       "      <td>Charles Casper Stockham</td>\n",
       "    </tr>\n",
       "    <tr>\n",
       "      <th>1</th>\n",
       "      <td>1005842</td>\n",
       "      <td>Jefferson</td>\n",
       "      <td>Charles Casper Stockham</td>\n",
       "    </tr>\n",
       "    <tr>\n",
       "      <th>2</th>\n",
       "      <td>1880345</td>\n",
       "      <td>Jefferson</td>\n",
       "      <td>Charles Casper Stockham</td>\n",
       "    </tr>\n",
       "    <tr>\n",
       "      <th>3</th>\n",
       "      <td>1600337</td>\n",
       "      <td>Jefferson</td>\n",
       "      <td>Charles Casper Stockham</td>\n",
       "    </tr>\n",
       "    <tr>\n",
       "      <th>4</th>\n",
       "      <td>1835994</td>\n",
       "      <td>Jefferson</td>\n",
       "      <td>Charles Casper Stockham</td>\n",
       "    </tr>\n",
       "  </tbody>\n",
       "</table>\n",
       "</div>"
      ],
      "text/plain": [
       "   Ballot ID     County                Candidate\n",
       "0    1323913  Jefferson  Charles Casper Stockham\n",
       "1    1005842  Jefferson  Charles Casper Stockham\n",
       "2    1880345  Jefferson  Charles Casper Stockham\n",
       "3    1600337  Jefferson  Charles Casper Stockham\n",
       "4    1835994  Jefferson  Charles Casper Stockham"
      ]
     },
     "execution_count": 7,
     "metadata": {},
     "output_type": "execute_result"
    }
   ],
   "source": [
    "original_file_df = pd.read_csv(file)\n",
    "original_file_df.head()"
   ]
  },
  {
   "cell_type": "code",
   "execution_count": 33,
   "id": "c59fbe88-6d2e-4ad9-a20b-0b2c9715c606",
   "metadata": {},
   "outputs": [
    {
     "name": "stdout",
     "output_type": "stream",
     "text": [
      "Total Votes: 369711\n"
     ]
    }
   ],
   "source": [
    "Total_Votes = len(original_file_df[\"Ballot ID\"])\n",
    "print(f\"Total Votes: {Total_Votes}\")"
   ]
  },
  {
   "cell_type": "code",
   "execution_count": 11,
   "id": "bd72f7a0-eae5-40eb-a596-89637a8c4c26",
   "metadata": {},
   "outputs": [],
   "source": [
    "Candidates = original_file_df[\"Candidate\"]\n",
    "Voted_candidates = Candidates.unique()\n",
    "Candidate_list = Voted_candidates.tolist()"
   ]
  },
  {
   "cell_type": "code",
   "execution_count": 13,
   "id": "abc77286-a92e-4dc8-bf4a-85c04973ba6f",
   "metadata": {},
   "outputs": [
    {
     "name": "stdout",
     "output_type": "stream",
     "text": [
      "Candidate list: ['Charles Casper Stockham', 'Diana DeGette', 'Raymon Anthony Doane']\n"
     ]
    }
   ],
   "source": [
    "print(f\"Candidate list: {Candidate_list}\")"
   ]
  },
  {
   "cell_type": "code",
   "execution_count": 15,
   "id": "04ea73c8-51c3-4cf1-9453-b6331413519b",
   "metadata": {},
   "outputs": [],
   "source": [
    "Candidate_1 = Candidate_list[0]\n",
    "Candidate_2 = Candidate_list[1]\n",
    "Candidate_3 = Candidate_list[2]"
   ]
  },
  {
   "cell_type": "code",
   "execution_count": 19,
   "id": "81579159-1779-4e52-909b-4fbc035a3a6e",
   "metadata": {},
   "outputs": [
    {
     "name": "stdout",
     "output_type": "stream",
     "text": [
      "Charles Casper: 85213\n"
     ]
    }
   ],
   "source": [
    "FilterV1_original_file_df = original_file_df[original_file_df[\"Candidate\"] == Candidate_1]\n",
    "Count_votes1 = FilterV1_original_file_df[\"Ballot ID\"].count()\n",
    "print(f\"Charles Casper: {Count_votes1}\")"
   ]
  },
  {
   "cell_type": "code",
   "execution_count": 21,
   "id": "4005868b-0ae5-4843-87c3-56239ed19a2d",
   "metadata": {},
   "outputs": [
    {
     "name": "stdout",
     "output_type": "stream",
     "text": [
      "Diana DeGette: 272892\n"
     ]
    }
   ],
   "source": [
    "FilterV2_original_file_df = original_file_df[original_file_df[\"Candidate\"] == Candidate_2]\n",
    "Count_votes2 = FilterV2_original_file_df[\"Ballot ID\"].count()\n",
    "print(f\"Diana DeGette: {Count_votes2}\")"
   ]
  },
  {
   "cell_type": "code",
   "execution_count": 23,
   "id": "a1b79be4-1222-4bfe-b43c-e925c85c529a",
   "metadata": {},
   "outputs": [
    {
     "name": "stdout",
     "output_type": "stream",
     "text": [
      "Raymond Anthony Doane: 11606\n"
     ]
    }
   ],
   "source": [
    "FilterV3_original_file_df = original_file_df[original_file_df[\"Candidate\"] == Candidate_3]\n",
    "Count_votes3 = FilterV3_original_file_df[\"Ballot ID\"].count()\n",
    "print(f\"Raymond Anthony Doane: {Count_votes3}\")"
   ]
  },
  {
   "cell_type": "code",
   "execution_count": 25,
   "id": "6e962e7d-b07e-4869-8e0d-9a93cd5592f6",
   "metadata": {},
   "outputs": [
    {
     "name": "stdout",
     "output_type": "stream",
     "text": [
      "Porcentage C1: 23.048543321675577\n"
     ]
    }
   ],
   "source": [
    "Porcentage_C1 = (Count_votes1 * 100)/Total_Votes\n",
    "print(f\"Porcentage C1: {Porcentage_C1}\")"
   ]
  },
  {
   "cell_type": "code",
   "execution_count": 27,
   "id": "5b32a2d3-f32a-4b05-8ad0-80fe1f32f9c9",
   "metadata": {},
   "outputs": [
    {
     "name": "stdout",
     "output_type": "stream",
     "text": [
      "Porcentage C2: 73.81224794501651\n"
     ]
    }
   ],
   "source": [
    "Porcentage_C2 = (Count_votes2 * 100)/Total_Votes\n",
    "print(f\"Porcentage C2: {Porcentage_C2}\")"
   ]
  },
  {
   "cell_type": "code",
   "execution_count": 29,
   "id": "b946372a-4eeb-4d4c-af4d-2d07d6fe77e8",
   "metadata": {},
   "outputs": [
    {
     "name": "stdout",
     "output_type": "stream",
     "text": [
      "Porcentage C3: 3.139208733307908\n"
     ]
    }
   ],
   "source": [
    "Porcentage_C3 = (Count_votes3 * 100)/Total_Votes\n",
    "print(f\"Porcentage C3: {Porcentage_C3}\")"
   ]
  },
  {
   "cell_type": "code",
   "execution_count": 31,
   "id": "1b2c1e7a-08e1-48cf-a8c9-a93fa21588b9",
   "metadata": {},
   "outputs": [
    {
     "name": "stdout",
     "output_type": "stream",
     "text": [
      "73.81224794501651\n"
     ]
    }
   ],
   "source": [
    "Porcentage_list = [Porcentage_C1, Porcentage_C2, Porcentage_C3]\n",
    "Winner = max(Porcentage_list)\n",
    "print(Winner)"
   ]
  },
  {
   "cell_type": "code",
   "execution_count": 35,
   "id": "dcad3cce-5940-4a0a-8817-54b3ff14d743",
   "metadata": {},
   "outputs": [
    {
     "name": "stdout",
     "output_type": "stream",
     "text": [
      "Election Results\n",
      "-----------------\n",
      "Total votes: 369711\n",
      "-----------------\n",
      "Charles Casper Stockham: 85213, 23.048543321675577 %\n",
      "Diana DeGette: 272892, 73.81224794501651 %\n",
      "Raymond Anthony Doane: 11606, 3.139208733307908 %\n",
      "-----------------\n",
      "Winner is Diane DeGette\n",
      "-----------------\n"
     ]
    }
   ],
   "source": [
    "print(\"Election Results\")\n",
    "print(\"-----------------\")\n",
    "print(f\"Total votes: {Total_Votes}\")\n",
    "print(\"-----------------\")\n",
    "print(f\"Charles Casper Stockham: {Count_votes1}, {Porcentage_C1} %\")\n",
    "print(f\"Diana DeGette: {Count_votes2}, {Porcentage_C2} %\")\n",
    "print(f\"Raymond Anthony Doane: {Count_votes3}, {Porcentage_C3} %\")\n",
    "print(\"-----------------\")\n",
    "print(\"Winner is Diane DeGette\")\n",
    "print(\"-----------------\")"
   ]
  },
  {
   "cell_type": "code",
   "execution_count": 82,
   "id": "69890816-e726-4279-b4c8-e4e00e819d5c",
   "metadata": {},
   "outputs": [],
   "source": [
    "output_file = \"Election Results.txt\"\n",
    "with open(output_file, \"w\") as file:\n",
    "    file.write(\"-----------------\")\n",
    "    file.write(f\"Charles Casper Stockham: {Count_votes1}, {Porcentage_C1} %\")\n",
    "    file.write(f\"Diana DeGette: {Count_votes2}, {Porcentage_C2} %\")\n",
    "    file.write(f\"Raymond Anthony Doane: {Count_votes3}, {Porcentage_C3} %\")\n",
    "    file.write(\"Winner is Diane DeGette\")\n",
    "    file.write(\"-----------------\")"
   ]
  },
  {
   "cell_type": "code",
   "execution_count": null,
   "id": "6d3700df-cf33-4480-a11e-15938dd1dd99",
   "metadata": {},
   "outputs": [],
   "source": []
  }
 ],
 "metadata": {
  "kernelspec": {
   "display_name": "Python 3 (ipykernel)",
   "language": "python",
   "name": "python3"
  },
  "language_info": {
   "codemirror_mode": {
    "name": "ipython",
    "version": 3
   },
   "file_extension": ".py",
   "mimetype": "text/x-python",
   "name": "python",
   "nbconvert_exporter": "python",
   "pygments_lexer": "ipython3",
   "version": "3.11.7"
  }
 },
 "nbformat": 4,
 "nbformat_minor": 5
}
